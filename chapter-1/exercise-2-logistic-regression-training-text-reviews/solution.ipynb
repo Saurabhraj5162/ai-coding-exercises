{
 "cells": [
  {
   "cell_type": "markdown",
   "id": "ee62c43a",
   "metadata": {},
   "source": [
    "### Problem Statement\n",
    "You are given a small dataset of product reviews labeled as positive (1) or negative (0).\n",
    "Your task is to build a text classification pipeline using TF-IDF vectorization and Logistic Regression."
   ]
  },
  {
   "cell_type": "code",
   "execution_count": 2,
   "id": "aac14810",
   "metadata": {},
   "outputs": [
    {
     "data": {
      "text/html": [
       "<div>\n",
       "<style scoped>\n",
       "    .dataframe tbody tr th:only-of-type {\n",
       "        vertical-align: middle;\n",
       "    }\n",
       "\n",
       "    .dataframe tbody tr th {\n",
       "        vertical-align: top;\n",
       "    }\n",
       "\n",
       "    .dataframe thead th {\n",
       "        text-align: right;\n",
       "    }\n",
       "</style>\n",
       "<table border=\"1\" class=\"dataframe\">\n",
       "  <thead>\n",
       "    <tr style=\"text-align: right;\">\n",
       "      <th></th>\n",
       "      <th>review</th>\n",
       "      <th>label</th>\n",
       "    </tr>\n",
       "  </thead>\n",
       "  <tbody>\n",
       "    <tr>\n",
       "      <th>0</th>\n",
       "      <td>This product is amazing, I love it!</td>\n",
       "      <td>1</td>\n",
       "    </tr>\n",
       "    <tr>\n",
       "      <th>1</th>\n",
       "      <td>Worst purchase I have ever made.</td>\n",
       "      <td>0</td>\n",
       "    </tr>\n",
       "    <tr>\n",
       "      <th>2</th>\n",
       "      <td>Absolutely fantastic quality, highly recommend.</td>\n",
       "      <td>1</td>\n",
       "    </tr>\n",
       "    <tr>\n",
       "      <th>3</th>\n",
       "      <td>Terrible, broke after one use.</td>\n",
       "      <td>0</td>\n",
       "    </tr>\n",
       "    <tr>\n",
       "      <th>4</th>\n",
       "      <td>Good value for money.</td>\n",
       "      <td>1</td>\n",
       "    </tr>\n",
       "  </tbody>\n",
       "</table>\n",
       "</div>"
      ],
      "text/plain": [
       "                                            review  label\n",
       "0              This product is amazing, I love it!      1\n",
       "1                 Worst purchase I have ever made.      0\n",
       "2  Absolutely fantastic quality, highly recommend.      1\n",
       "3                   Terrible, broke after one use.      0\n",
       "4                            Good value for money.      1"
      ]
     },
     "execution_count": 2,
     "metadata": {},
     "output_type": "execute_result"
    }
   ],
   "source": [
    "import pandas as pd\n",
    "\n",
    "df = pd.read_csv(\"reviews_dataset.csv\")\n",
    "df.head()"
   ]
  },
  {
   "cell_type": "code",
   "execution_count": 3,
   "id": "bfff09cc",
   "metadata": {},
   "outputs": [
    {
     "data": {
      "text/plain": [
       "2"
      ]
     },
     "execution_count": 3,
     "metadata": {},
     "output_type": "execute_result"
    }
   ],
   "source": [
    "# check for unique label\n",
    "df['label'].nunique()\n"
   ]
  },
  {
   "cell_type": "code",
   "execution_count": 4,
   "id": "efbfe73e",
   "metadata": {},
   "outputs": [
    {
     "name": "stdout",
     "output_type": "stream",
     "text": [
      "review    0\n",
      "label     0\n",
      "dtype: int64\n"
     ]
    }
   ],
   "source": [
    "print(df.isnull().sum())"
   ]
  },
  {
   "cell_type": "code",
   "execution_count": 5,
   "id": "2b561a28",
   "metadata": {},
   "outputs": [
    {
     "data": {
      "text/plain": [
       "label\n",
       "1    5\n",
       "0    5\n",
       "Name: count, dtype: int64"
      ]
     },
     "execution_count": 5,
     "metadata": {},
     "output_type": "execute_result"
    }
   ],
   "source": [
    "df['label'].value_counts()"
   ]
  },
  {
   "cell_type": "code",
   "execution_count": 8,
   "id": "8ca5fbb6",
   "metadata": {},
   "outputs": [
    {
     "name": "stdout",
     "output_type": "stream",
     "text": [
      "X_train 2    Absolutely fantastic quality, highly recommend.\n",
      "9                     Very disappointing experience.\n",
      "3                     Terrible, broke after one use.\n",
      "6             Excellent performance and easy to use.\n",
      "4                              Good value for money.\n",
      "0                This product is amazing, I love it!\n",
      "5                       I hate this, waste of money.\n",
      "Name: review, dtype: object\n",
      "X Train Tfidf : <Compressed Sparse Row sparse matrix of dtype 'float64'\n",
      "\twith 23 stored elements and shape (7, 21)>\n",
      "  Coords\tValues\n",
      "  (0, 0)\t0.4472135954999579\n",
      "  (0, 7)\t0.4472135954999579\n",
      "  (0, 15)\t0.4472135954999579\n",
      "  (0, 10)\t0.4472135954999579\n",
      "  (0, 16)\t0.4472135954999579\n",
      "  (1, 3)\t0.7071067811865476\n",
      "  (1, 6)\t0.7071067811865476\n",
      "  (2, 17)\t0.6098192948782316\n",
      "  (2, 2)\t0.6098192948782316\n",
      "  (2, 18)\t0.5062023856012858\n",
      "  (3, 18)\t0.43218152024617124\n",
      "  (3, 5)\t0.5206467559864713\n",
      "  (3, 13)\t0.5206467559864713\n",
      "  (3, 4)\t0.5206467559864713\n",
      "  (4, 8)\t0.6098192948782316\n",
      "  (4, 19)\t0.6098192948782316\n",
      "  (4, 12)\t0.5062023856012858\n",
      "  (5, 14)\t0.5773502691896257\n",
      "  (5, 1)\t0.5773502691896257\n",
      "  (5, 11)\t0.5773502691896257\n",
      "  (6, 12)\t0.5062023856012858\n",
      "  (6, 9)\t0.6098192948782316\n",
      "  (6, 20)\t0.6098192948782316\n"
     ]
    }
   ],
   "source": [
    "from sklearn.model_selection import train_test_split\n",
    "\n",
    "# lets split the data into training and test set\n",
    "X, y = df['review'], df['label']\n",
    "X_train, X_test, y_train, y_test = train_test_split(X, y, test_size = 0.3, random_state=42, stratify = y)\n",
    "\n",
    "# encode the reviews\n",
    "from sklearn.feature_extraction.text import TfidfVectorizer\n",
    "\n",
    "tfid = TfidfVectorizer(stop_words='english')\n",
    "\n",
    "X_train_tfidf = tfid.fit_transform(X_train)\n",
    "X_test_tfidf = tfid.transform(X_test)\n",
    "\n",
    "print(\"X_train\", X_train)\n",
    "print(\"X Train Tfidf :\", X_train_tfidf)"
   ]
  },
  {
   "cell_type": "code",
   "execution_count": 9,
   "id": "8591b6f0",
   "metadata": {},
   "outputs": [
    {
     "name": "stdout",
     "output_type": "stream",
     "text": [
      "accuracy:  0.3333333333333333\n",
      "Classification report:                precision    recall  f1-score   support\n",
      "\n",
      "           0       0.00      0.00      0.00         2\n",
      "           1       0.33      1.00      0.50         1\n",
      "\n",
      "    accuracy                           0.33         3\n",
      "   macro avg       0.17      0.50      0.25         3\n",
      "weighted avg       0.11      0.33      0.17         3\n",
      "\n"
     ]
    },
    {
     "name": "stderr",
     "output_type": "stream",
     "text": [
      "c:\\Users\\sra\\AppData\\Local\\miniconda3\\envs\\nordic\\Lib\\site-packages\\sklearn\\metrics\\_classification.py:1731: UndefinedMetricWarning: Precision is ill-defined and being set to 0.0 in labels with no predicted samples. Use `zero_division` parameter to control this behavior.\n",
      "  _warn_prf(average, modifier, f\"{metric.capitalize()} is\", result.shape[0])\n",
      "c:\\Users\\sra\\AppData\\Local\\miniconda3\\envs\\nordic\\Lib\\site-packages\\sklearn\\metrics\\_classification.py:1731: UndefinedMetricWarning: Precision is ill-defined and being set to 0.0 in labels with no predicted samples. Use `zero_division` parameter to control this behavior.\n",
      "  _warn_prf(average, modifier, f\"{metric.capitalize()} is\", result.shape[0])\n",
      "c:\\Users\\sra\\AppData\\Local\\miniconda3\\envs\\nordic\\Lib\\site-packages\\sklearn\\metrics\\_classification.py:1731: UndefinedMetricWarning: Precision is ill-defined and being set to 0.0 in labels with no predicted samples. Use `zero_division` parameter to control this behavior.\n",
      "  _warn_prf(average, modifier, f\"{metric.capitalize()} is\", result.shape[0])\n"
     ]
    }
   ],
   "source": [
    "# logistic regression model\n",
    "\n",
    "from sklearn.linear_model import LogisticRegression\n",
    "from sklearn.metrics import accuracy_score, classification_report\n",
    "\n",
    "model = LogisticRegression()\n",
    "model.fit(X_train_tfidf, y_train)\n",
    "\n",
    "\n",
    "# Evalutae\n",
    "y_predicted = model.predict(X_test_tfidf)\n",
    "print(\"accuracy: \",accuracy_score(y_test, y_predicted))\n",
    "print(\"Classification report: \", classification_report(y_true=y_test, y_pred=y_predicted))"
   ]
  },
  {
   "cell_type": "code",
   "execution_count": null,
   "id": "17f94ab5",
   "metadata": {},
   "outputs": [],
   "source": []
  }
 ],
 "metadata": {
  "kernelspec": {
   "display_name": "nordic",
   "language": "python",
   "name": "python3"
  },
  "language_info": {
   "codemirror_mode": {
    "name": "ipython",
    "version": 3
   },
   "file_extension": ".py",
   "mimetype": "text/x-python",
   "name": "python",
   "nbconvert_exporter": "python",
   "pygments_lexer": "ipython3",
   "version": "3.12.11"
  }
 },
 "nbformat": 4,
 "nbformat_minor": 5
}
