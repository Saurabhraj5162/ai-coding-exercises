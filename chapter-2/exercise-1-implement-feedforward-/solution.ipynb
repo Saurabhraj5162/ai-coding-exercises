{
 "cells": [
  {
   "cell_type": "markdown",
   "id": "298c6628",
   "metadata": {},
   "source": [
    "### Problem Statement:\n",
    "Implement forward propagation of a feedforward network fmro scratch"
   ]
  },
  {
   "cell_type": "code",
   "execution_count": 1,
   "id": "77ea6832",
   "metadata": {},
   "outputs": [],
   "source": [
    "import numpy as np"
   ]
  },
  {
   "cell_type": "code",
   "execution_count": null,
   "id": "f6175563",
   "metadata": {},
   "outputs": [],
   "source": [
    "def activation(z):\n",
    "    # σ(x) = 1 / (1 + e^(-x)) \n",
    "    return 1/(1 + np.exp(-z))\n",
    "\n",
    "def forward(X,W1,b1, W2, b2, W3, b3):\n",
    "    W1,b1, W2, b2, W3, b3 = params[\"W1\"], params[\"b1\"], params[\"W2\"], params[\"b3\"], params[\"W3\"], params[\"b3\"]\n",
    "    # 1st layer activation\n",
    "    z1 = np.dot(X, W1) + b1\n",
    "    a1 = activation(z1)\n",
    "\n",
    "    # second layer activation\n",
    "    z2 = np.dot(a1, W2) + b2\n",
    "    a2 = sigmoid(z2)\n",
    "\n",
    "    # final output (condidering its a binary classification)\n",
    "    z3 = np.dot(a2, W3) + b3\n",
    "    y = activation(z3)\n",
    "\n",
    "    return y\n"
   ]
  },
  {
   "cell_type": "code",
   "execution_count": null,
   "id": "ebd54684",
   "metadata": {},
   "outputs": [],
   "source": [
    "if __name__ == \"__main__\":\n",
    "    # lets say we have 4 input with 3 features:\n",
    "    X = np.array([[1,2,3], [0,2,4]])\n",
    "\n",
    "    # lets initialise the params for all layers:\n",
    "    params = {\n",
    "        \"W1\": np.random.randn(4,3), #Return a sample (or samples) from the “standard normal” distribution.\n",
    "        \"W2\": np.random.randn(4,4),\n",
    "        \"W3\": np.random.randn(2,4),\n",
    "        \"b1\": np.random.randn(4,1),\n",
    "        \"b2\": np.random.randn(4,1), \n",
    "        \"b3\": np.random.randn(2,1)       \n",
    "    }\n",
    "\n",
    "   \n",
    "\n",
    "   prediction = forward(X, params)\n",
    "\n",
    "    print(f\"The final predicted probability is {second_pass}\")"
   ]
  },
  {
   "cell_type": "code",
   "execution_count": null,
   "id": "ac5c3ccd",
   "metadata": {},
   "outputs": [],
   "source": []
  }
 ],
 "metadata": {
  "kernelspec": {
   "display_name": "nordic",
   "language": "python",
   "name": "python3"
  },
  "language_info": {
   "codemirror_mode": {
    "name": "ipython",
    "version": 3
   },
   "file_extension": ".py",
   "mimetype": "text/x-python",
   "name": "python",
   "nbconvert_exporter": "python",
   "pygments_lexer": "ipython3",
   "version": "3.12.11"
  }
 },
 "nbformat": 4,
 "nbformat_minor": 5
}
