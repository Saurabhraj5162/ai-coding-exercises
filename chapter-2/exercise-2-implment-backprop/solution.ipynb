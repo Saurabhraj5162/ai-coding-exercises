{
 "cells": [
  {
   "cell_type": "markdown",
   "id": "1287e8d4",
   "metadata": {},
   "source": [
    "### How to implement backpropagation"
   ]
  },
  {
   "cell_type": "code",
   "execution_count": null,
   "id": "f4bd6aa8",
   "metadata": {},
   "outputs": [],
   "source": [
    "import numpy as np\n",
    "\n",
    "def sigmoid(z):\n",
    "    return 1/(1 + np.exp(-z))\n",
    "\n",
    "def sigmoid_derivative(z):\n",
    "    return sigmoid(z)*(1 - sigmoid(z))\n",
    "\n",
    "# def binary_cross_entropy_loss(y, t):\n",
    "#     eps = 1e-9\n",
    "#     return -np.mean(t * np.log(y + eps) + (1 - t) * np.log(1 - y + eps))\n",
    "\n",
    "def forward(X, params):\n",
    "    W1,b1, W2, b2, W3, b3 = params[\"W1\"], params[\"b1\"], params[\"W2\"], params[\"b2\"], params[\"W3\"], params[\"b3\"]\n",
    "\n",
    "    z1 = np.dot(X, W1) + b1\n",
    "    a1 = sigmoid(z1)\n",
    "\n",
    "    z2 = np.dot(a1, W2) + b2\n",
    "    a2 = sigmoid(z2)\n",
    "\n",
    "    z3 = np.dot(a2, W3) + b3\n",
    "    y = sigmoid(z3)\n",
    "\n",
    "    # We will return everything as a cache which will be used in backprop\n",
    "    return {\"z1\":z1, \"a1\": a1, \"z2\":z2, \"a2\": a2, \"z3\": z3, \"y\":y}\n",
    "\n",
    "def backprop(y_true, W1, b1, W2, b2, W3, b3, cache):\n",
    "    z1, a1, z2, a2, z3, y = cache[\"z1\"], cache[\"a1\"], cache[\"z2\"], cache[\"a2\"], cache[\"z3\"], cache[\"y\"],\n",
    "\n",
    "    m = y_true.shape[0]\n",
    "    dz3 = y - y_true\n",
    "    dw3 = np.dot(a2.T, dz3) / m  # note: y - y_true is dz3\n",
    "    db3 = np.sum(dz3, axis=0, keepdims=True) / m\n",
    "\n",
    "    # Hidden layer 2 gradient\n",
    "    da2 = np.dot(dz3, W3.T)\n",
    "    dz2 = da2 * sigmoid_derivative(a2)\n",
    "    dw2 = np.dot(a1.T, dz2) / m\n",
    "    db2 = np.sum(dz2, axis=0, keepdims=True) / m\n",
    "\n",
    "    # Hidden layer 1 gradient\n",
    "    da1 = np.dot(dz2, W2.T)\n",
    "    dz1 = da1 * sigmoid_derivative(a1)\n",
    "    dw1 = np.dot(X.T, dz1) / m\n",
    "    db1 = np.sum(dz1, axis=0, keepdims=True) / m\n",
    "\n",
    "    grads = (dw1, db1, dw2, db2, dw3, db3)\n",
    "    return grads\n",
    "\n",
    "\n",
    "\n",
    "\n",
    "\n",
    "\n",
    "\n",
    "    "
   ]
  },
  {
   "cell_type": "code",
   "execution_count": null,
   "id": "12977fd6",
   "metadata": {},
   "outputs": [],
   "source": []
  }
 ],
 "metadata": {
  "kernelspec": {
   "display_name": "nordic",
   "language": "python",
   "name": "python3"
  },
  "language_info": {
   "name": "python",
   "version": "3.12.11"
  }
 },
 "nbformat": 4,
 "nbformat_minor": 5
}
